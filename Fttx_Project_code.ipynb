{
  "nbformat": 4,
  "nbformat_minor": 0,
  "metadata": {
    "colab": {
      "provenance": [],
      "authorship_tag": "ABX9TyOjJaE5MR1uobD4+GgiA9x2",
      "include_colab_link": true
    },
    "kernelspec": {
      "name": "python3",
      "display_name": "Python 3"
    },
    "language_info": {
      "name": "python"
    },
    "widgets": {
      "application/vnd.jupyter.widget-state+json": {
        "ee70eb0dfc8440c09df9edfed5cec7d5": {
          "model_module": "@jupyter-widgets/controls",
          "model_name": "TextModel",
          "model_module_version": "1.5.0",
          "state": {
            "_dom_classes": [],
            "_model_module": "@jupyter-widgets/controls",
            "_model_module_version": "1.5.0",
            "_model_name": "TextModel",
            "_view_count": null,
            "_view_module": "@jupyter-widgets/controls",
            "_view_module_version": "1.5.0",
            "_view_name": "TextView",
            "continuous_update": true,
            "description": "Enter ID:",
            "description_tooltip": null,
            "disabled": false,
            "layout": "IPY_MODEL_7a59484f1e60473791bff005b7705702",
            "placeholder": "​",
            "style": "IPY_MODEL_351ddd382cb84c2d9f07f0db6c9120f8",
            "value": "gasda"
          }
        },
        "7a59484f1e60473791bff005b7705702": {
          "model_module": "@jupyter-widgets/base",
          "model_name": "LayoutModel",
          "model_module_version": "1.2.0",
          "state": {
            "_model_module": "@jupyter-widgets/base",
            "_model_module_version": "1.2.0",
            "_model_name": "LayoutModel",
            "_view_count": null,
            "_view_module": "@jupyter-widgets/base",
            "_view_module_version": "1.2.0",
            "_view_name": "LayoutView",
            "align_content": null,
            "align_items": null,
            "align_self": null,
            "border": null,
            "bottom": null,
            "display": null,
            "flex": null,
            "flex_flow": null,
            "grid_area": null,
            "grid_auto_columns": null,
            "grid_auto_flow": null,
            "grid_auto_rows": null,
            "grid_column": null,
            "grid_gap": null,
            "grid_row": null,
            "grid_template_areas": null,
            "grid_template_columns": null,
            "grid_template_rows": null,
            "height": null,
            "justify_content": null,
            "justify_items": null,
            "left": null,
            "margin": null,
            "max_height": null,
            "max_width": null,
            "min_height": null,
            "min_width": null,
            "object_fit": null,
            "object_position": null,
            "order": null,
            "overflow": null,
            "overflow_x": null,
            "overflow_y": null,
            "padding": null,
            "right": null,
            "top": null,
            "visibility": null,
            "width": null
          }
        },
        "351ddd382cb84c2d9f07f0db6c9120f8": {
          "model_module": "@jupyter-widgets/controls",
          "model_name": "DescriptionStyleModel",
          "model_module_version": "1.5.0",
          "state": {
            "_model_module": "@jupyter-widgets/controls",
            "_model_module_version": "1.5.0",
            "_model_name": "DescriptionStyleModel",
            "_view_count": null,
            "_view_module": "@jupyter-widgets/base",
            "_view_module_version": "1.2.0",
            "_view_name": "StyleView",
            "description_width": ""
          }
        },
        "dc489ebbbd56476c8a4aebcb0f0d54d4": {
          "model_module": "@jupyter-widgets/controls",
          "model_name": "ButtonModel",
          "model_module_version": "1.5.0",
          "state": {
            "_dom_classes": [],
            "_model_module": "@jupyter-widgets/controls",
            "_model_module_version": "1.5.0",
            "_model_name": "ButtonModel",
            "_view_count": null,
            "_view_module": "@jupyter-widgets/controls",
            "_view_module_version": "1.5.0",
            "_view_name": "ButtonView",
            "button_style": "",
            "description": "Capture",
            "disabled": false,
            "icon": "",
            "layout": "IPY_MODEL_817ecff86b9c4bd3a60f3c81154e0c16",
            "style": "IPY_MODEL_5f2eedc8c8ff44b397ccc4e9b4c17376",
            "tooltip": ""
          }
        },
        "817ecff86b9c4bd3a60f3c81154e0c16": {
          "model_module": "@jupyter-widgets/base",
          "model_name": "LayoutModel",
          "model_module_version": "1.2.0",
          "state": {
            "_model_module": "@jupyter-widgets/base",
            "_model_module_version": "1.2.0",
            "_model_name": "LayoutModel",
            "_view_count": null,
            "_view_module": "@jupyter-widgets/base",
            "_view_module_version": "1.2.0",
            "_view_name": "LayoutView",
            "align_content": null,
            "align_items": null,
            "align_self": null,
            "border": null,
            "bottom": null,
            "display": null,
            "flex": null,
            "flex_flow": null,
            "grid_area": null,
            "grid_auto_columns": null,
            "grid_auto_flow": null,
            "grid_auto_rows": null,
            "grid_column": null,
            "grid_gap": null,
            "grid_row": null,
            "grid_template_areas": null,
            "grid_template_columns": null,
            "grid_template_rows": null,
            "height": null,
            "justify_content": null,
            "justify_items": null,
            "left": null,
            "margin": null,
            "max_height": null,
            "max_width": null,
            "min_height": null,
            "min_width": null,
            "object_fit": null,
            "object_position": null,
            "order": null,
            "overflow": null,
            "overflow_x": null,
            "overflow_y": null,
            "padding": null,
            "right": null,
            "top": null,
            "visibility": null,
            "width": null
          }
        },
        "5f2eedc8c8ff44b397ccc4e9b4c17376": {
          "model_module": "@jupyter-widgets/controls",
          "model_name": "ButtonStyleModel",
          "model_module_version": "1.5.0",
          "state": {
            "_model_module": "@jupyter-widgets/controls",
            "_model_module_version": "1.5.0",
            "_model_name": "ButtonStyleModel",
            "_view_count": null,
            "_view_module": "@jupyter-widgets/base",
            "_view_module_version": "1.2.0",
            "_view_name": "StyleView",
            "button_color": null,
            "font_weight": ""
          }
        }
      }
    }
  },
  "cells": [
    {
      "cell_type": "markdown",
      "metadata": {
        "id": "view-in-github",
        "colab_type": "text"
      },
      "source": [
        "<a href=\"https://colab.research.google.com/github/nilu-ai/Restaurant_Fttx_project/blob/main/Fttx_Project_code.ipynb\" target=\"_parent\"><img src=\"https://colab.research.google.com/assets/colab-badge.svg\" alt=\"Open In Colab\"/></a>"
      ]
    },
    {
      "cell_type": "code",
      "execution_count": 3,
      "metadata": {
        "colab": {
          "base_uri": "https://localhost:8080/",
          "height": 376,
          "referenced_widgets": [
            "ee70eb0dfc8440c09df9edfed5cec7d5",
            "7a59484f1e60473791bff005b7705702",
            "351ddd382cb84c2d9f07f0db6c9120f8",
            "dc489ebbbd56476c8a4aebcb0f0d54d4",
            "817ecff86b9c4bd3a60f3c81154e0c16",
            "5f2eedc8c8ff44b397ccc4e9b4c17376"
          ]
        },
        "id": "TUfm5Yl90lXP",
        "outputId": "3bde67bd-c04a-4ce7-e4b3-d925077b8a45"
      },
      "outputs": [
        {
          "output_type": "display_data",
          "data": {
            "text/plain": [
              "Text(value='', description='Enter ID:')"
            ],
            "application/vnd.jupyter.widget-view+json": {
              "version_major": 2,
              "version_minor": 0,
              "model_id": "ee70eb0dfc8440c09df9edfed5cec7d5"
            }
          },
          "metadata": {}
        },
        {
          "output_type": "display_data",
          "data": {
            "text/plain": [
              "Button(description='Capture', style=ButtonStyle())"
            ],
            "application/vnd.jupyter.widget-view+json": {
              "version_major": 2,
              "version_minor": 0,
              "model_id": "dc489ebbbd56476c8a4aebcb0f0d54d4"
            }
          },
          "metadata": {}
        },
        {
          "output_type": "display_data",
          "data": {
            "text/plain": [
              "<IPython.core.display.Javascript object>"
            ],
            "application/javascript": [
              "\n",
              "    async function takePhoto(quality) {\n",
              "      const div = document.createElement('div');\n",
              "      const capture = document.createElement('button');\n",
              "      capture.textContent = 'Capture';\n",
              "      const cancel = document.createElement('button');\n",
              "      cancel.textContent = 'Cancel';\n",
              "      div.appendChild(capture);\n",
              "      div.appendChild(cancel);\n",
              "\n",
              "      const video = document.createElement('video');\n",
              "      video.style.display = 'block';\n",
              "      const stream = await navigator.mediaDevices.getUserMedia({video: true});\n",
              "\n",
              "      document.body.appendChild(div);\n",
              "      div.appendChild(video);\n",
              "      video.srcObject = stream;\n",
              "      await video.play();\n",
              "\n",
              "      // Resize the output to fit the video element.\n",
              "      google.colab.output.setIframeHeight(document.documentElement.scrollHeight, true);\n",
              "\n",
              "      let stop = false;\n",
              "      const images = [];\n",
              "      \n",
              "      // Capture images until cancel is clicked.\n",
              "      while (!stop) {\n",
              "        await new Promise((resolve) => {\n",
              "          capture.onclick = () => {\n",
              "            const canvas = document.createElement('canvas');\n",
              "            canvas.width = video.videoWidth;\n",
              "            canvas.height = video.videoHeight;\n",
              "            canvas.getContext('2d').drawImage(video, 0, 0);\n",
              "            const imageData = canvas.toDataURL('image/jpeg', quality);\n",
              "            images.push(imageData);\n",
              "            resolve();\n",
              "          };\n",
              "          cancel.onclick = () => {\n",
              "            stop = true;\n",
              "            resolve();\n",
              "          };\n",
              "        });\n",
              "      }\n",
              "\n",
              "      stream.getVideoTracks()[0].stop();\n",
              "      div.remove();\n",
              "      return images;\n",
              "    }\n",
              "    "
            ]
          },
          "metadata": {}
        },
        {
          "output_type": "stream",
          "name": "stdout",
          "text": [
            "Saved to:\n",
            "gasda/photo0.jpg\n",
            "gasda/photo1.jpg\n",
            "gasda/photo2.jpg\n",
            "gasda/photo3.jpg\n",
            "gasda/photo4.jpg\n",
            "gasda/photo5.jpg\n",
            "gasda/photo6.jpg\n",
            "gasda/photo7.jpg\n",
            "gasda/photo8.jpg\n",
            "gasda/photo9.jpg\n",
            "gasda/photo10.jpg\n",
            "gasda/photo11.jpg\n",
            "gasda/photo12.jpg\n",
            "gasda/photo13.jpg\n",
            "gasda/photo14.jpg\n",
            "gasda/photo15.jpg\n"
          ]
        }
      ],
      "source": [
        "from IPython.display import display, Javascript\n",
        "from google.colab.output import eval_js\n",
        "from base64 import b64decode\n",
        "import os\n",
        "from ipywidgets import widgets\n",
        "\n",
        "def create_folder_if_not_exists(folder_name):\n",
        "    if not os.path.exists(folder_name):\n",
        "        os.makedirs(folder_name)\n",
        "\n",
        "def take_photo(id, quality=0.8):\n",
        "    folder_name = str(id)\n",
        "    create_folder_if_not_exists(folder_name)\n",
        "\n",
        "    js = Javascript('''\n",
        "    async function takePhoto(quality) {\n",
        "      const div = document.createElement('div');\n",
        "      const capture = document.createElement('button');\n",
        "      capture.textContent = 'Capture';\n",
        "      const cancel = document.createElement('button');\n",
        "      cancel.textContent = 'Cancel';\n",
        "      div.appendChild(capture);\n",
        "      div.appendChild(cancel);\n",
        "\n",
        "      const video = document.createElement('video');\n",
        "      video.style.display = 'block';\n",
        "      const stream = await navigator.mediaDevices.getUserMedia({video: true});\n",
        "\n",
        "      document.body.appendChild(div);\n",
        "      div.appendChild(video);\n",
        "      video.srcObject = stream;\n",
        "      await video.play();\n",
        "\n",
        "      // Resize the output to fit the video element.\n",
        "      google.colab.output.setIframeHeight(document.documentElement.scrollHeight, true);\n",
        "\n",
        "      let stop = false;\n",
        "      const images = [];\n",
        "\n",
        "      // Capture images until cancel is clicked.\n",
        "      while (!stop) {\n",
        "        await new Promise((resolve) => {\n",
        "          capture.onclick = () => {\n",
        "            const canvas = document.createElement('canvas');\n",
        "            canvas.width = video.videoWidth;\n",
        "            canvas.height = video.videoHeight;\n",
        "            canvas.getContext('2d').drawImage(video, 0, 0);\n",
        "            const imageData = canvas.toDataURL('image/jpeg', quality);\n",
        "            images.push(imageData);\n",
        "            resolve();\n",
        "          };\n",
        "          cancel.onclick = () => {\n",
        "            stop = true;\n",
        "            resolve();\n",
        "          };\n",
        "        });\n",
        "      }\n",
        "\n",
        "      stream.getVideoTracks()[0].stop();\n",
        "      div.remove();\n",
        "      return images;\n",
        "    }\n",
        "    ''')\n",
        "\n",
        "    display(js)\n",
        "    images = eval_js('takePhoto({})'.format(quality))\n",
        "\n",
        "    filenames = []\n",
        "    for i, image_data in enumerate(images):\n",
        "        binary = b64decode(image_data.split(',')[1])\n",
        "        filename = os.path.join(folder_name, 'photo{}.jpg'.format(i))\n",
        "        filenames.append(filename)\n",
        "        with open(filename, 'wb') as f:\n",
        "            f.write(binary)\n",
        "\n",
        "    return filenames\n",
        "\n",
        "id_widget = widgets.Text(description=\"Enter ID:\")\n",
        "display(id_widget)\n",
        "\n",
        "def on_button_clicked(b):\n",
        "    try:\n",
        "        id = id_widget.value\n",
        "        filenames = take_photo(id)\n",
        "        print('Saved to:')\n",
        "        for filename in filenames:\n",
        "            print(filename)\n",
        "    except Exception as err:\n",
        "        print(str(err))\n",
        "\n",
        "button = widgets.Button(description=\"Capture\")\n",
        "button.on_click(on_button_clicked)\n",
        "display(button)\n"
      ]
    },
    {
      "cell_type": "code",
      "source": [
        "!unzip /content/Train.zip"
      ],
      "metadata": {
        "colab": {
          "base_uri": "https://localhost:8080/"
        },
        "id": "1ivEU6Eg2nMk",
        "outputId": "a12d9fe6-4a97-47c1-b740-5008b1dcf3ef"
      },
      "execution_count": 4,
      "outputs": [
        {
          "output_type": "stream",
          "name": "stdout",
          "text": [
            "Archive:  /content/Train.zip\n",
            "   creating: Train/Abhishek 1/\n",
            "  inflating: Train/Abhishek 1/WIN_20240524_15_28_24_Pro (2).jpg  \n",
            "  inflating: Train/Abhishek 1/WIN_20240524_15_28_24_Pro.jpg  \n",
            "  inflating: Train/Abhishek 1/WIN_20240524_15_28_25_Pro (2).jpg  \n",
            "  inflating: Train/Abhishek 1/WIN_20240524_15_28_25_Pro.jpg  \n",
            "  inflating: Train/Abhishek 1/WIN_20240524_15_28_37_Pro.jpg  \n",
            "  inflating: Train/Abhishek 1/WIN_20240524_15_28_39_Pro.jpg  \n",
            "  inflating: Train/Abhishek 1/WIN_20240524_15_28_41_Pro.jpg  \n",
            "  inflating: Train/Abhishek 1/WIN_20240524_15_28_42_Pro.jpg  \n",
            "  inflating: Train/Abhishek 1/WIN_20240524_15_28_44_Pro.jpg  \n",
            "  inflating: Train/Abhishek 1/WIN_20240524_15_28_45_Pro.jpg  \n",
            "  inflating: Train/Abhishek 1/WIN_20240524_15_28_47_Pro.jpg  \n",
            "  inflating: Train/Abhishek 1/WIN_20240524_15_28_48_Pro.jpg  \n",
            "  inflating: Train/Abhishek 1/WIN_20240524_15_28_50_Pro.jpg  \n",
            "  inflating: Train/Abhishek 1/WIN_20240524_15_28_52_Pro.jpg  \n",
            "  inflating: Train/Abhishek 1/WIN_20240524_15_29_22_Pro.jpg  \n",
            "  inflating: Train/Abhishek 1/WIN_20240524_15_29_23_Pro.jpg  \n",
            "  inflating: Train/Abhishek 1/WIN_20240524_15_29_24_Pro.jpg  \n",
            "  inflating: Train/Abhishek 1/WIN_20240524_15_29_25_Pro.jpg  \n",
            "  inflating: Train/Abhishek 1/WIN_20240524_15_29_26_Pro.jpg  \n",
            "  inflating: Train/Abhishek 1/WIN_20240524_15_29_27_Pro.jpg  \n",
            "  inflating: Train/Abhishek 1/WIN_20240524_15_29_30_Pro.jpg  \n",
            "  inflating: Train/Abhishek 1/WIN_20240524_15_29_33_Pro.jpg  \n",
            "  inflating: Train/Abhishek 1/WIN_20240524_15_29_35_Pro.jpg  \n",
            "  inflating: Train/Abhishek 1/WIN_20240524_15_29_36_Pro.jpg  \n",
            "  inflating: Train/Abhishek 1/WIN_20240524_15_29_38_Pro.jpg  \n",
            "   creating: Train/ALI ASGAR/\n",
            "  inflating: Train/ALI ASGAR/WIN_20240524_14_45_44_Pro.jpg  \n",
            "  inflating: Train/ALI ASGAR/WIN_20240524_14_50_57_Pro.jpg  \n",
            "  inflating: Train/ALI ASGAR/WIN_20240524_14_52_45_Pro.jpg  \n",
            "  inflating: Train/ALI ASGAR/WIN_20240524_14_55_53_Pro.jpg  \n",
            "  inflating: Train/ALI ASGAR/WIN_20240524_14_55_56_Pro.jpg  \n",
            "   creating: Train/Mihir/\n",
            "  inflating: Train/Mihir/WIN_20240524_15_25_52_Pro.jpg  \n",
            "  inflating: Train/Mihir/WIN_20240524_15_25_54_Pro.jpg  \n",
            "  inflating: Train/Mihir/WIN_20240524_15_25_55_Pro.jpg  \n",
            "  inflating: Train/Mihir/WIN_20240524_15_25_59_Pro.jpg  \n",
            "  inflating: Train/Mihir/WIN_20240524_15_26_01_Pro.jpg  \n",
            "  inflating: Train/Mihir/WIN_20240524_15_26_02_Pro.jpg  \n",
            "  inflating: Train/Mihir/WIN_20240524_15_26_04_Pro.jpg  \n",
            "  inflating: Train/Mihir/WIN_20240524_15_26_06_Pro.jpg  \n",
            "  inflating: Train/Mihir/WIN_20240524_15_26_09_Pro.jpg  \n",
            "  inflating: Train/Mihir/WIN_20240524_15_26_10_Pro.jpg  \n",
            "  inflating: Train/Mihir/WIN_20240524_15_26_11_Pro.jpg  \n",
            "  inflating: Train/Mihir/WIN_20240524_15_26_13_Pro.jpg  \n",
            "  inflating: Train/Mihir/WIN_20240524_15_26_15_Pro.jpg  \n",
            "  inflating: Train/Mihir/WIN_20240524_15_26_16_Pro.jpg  \n",
            "  inflating: Train/Mihir/WIN_20240524_15_26_18_Pro.jpg  \n",
            "   creating: Train/RISHABH/\n",
            "  inflating: Train/RISHABH/WIN_20240524_14_48_34_Pro.jpg  \n",
            "  inflating: Train/RISHABH/WIN_20240524_14_48_35_Pro.jpg  \n",
            "  inflating: Train/RISHABH/WIN_20240524_14_48_36_Pro.jpg  \n",
            "   creating: Train/Rohan/\n",
            "  inflating: Train/Rohan/WIN_20240524_15_21_18_Pro.jpg  \n",
            "  inflating: Train/Rohan/WIN_20240524_15_21_23_Pro.jpg  \n",
            "  inflating: Train/Rohan/WIN_20240524_15_21_25_Pro.jpg  \n",
            "  inflating: Train/Rohan/WIN_20240524_15_21_36_Pro.jpg  \n",
            "   creating: Train/RUSHIKESH/\n",
            "  inflating: Train/RUSHIKESH/WIN_20240524_15_30_24_Pro.jpg  \n",
            "  inflating: Train/RUSHIKESH/WIN_20240524_15_30_26_Pro.jpg  \n",
            "  inflating: Train/RUSHIKESH/WIN_20240524_15_30_35_Pro.jpg  \n",
            "  inflating: Train/RUSHIKESH/WIN_20240524_15_30_56_Pro.jpg  \n",
            "  inflating: Train/RUSHIKESH/WIN_20240524_15_31_00_Pro.jpg  \n",
            "  inflating: Train/RUSHIKESH/WIN_20240524_15_31_14_Pro.jpg  \n",
            "   creating: Train/SHAGUN/\n",
            "  inflating: Train/SHAGUN/WIN_20240524_15_27_13_Pro.jpg  \n",
            "  inflating: Train/SHAGUN/WIN_20240524_15_27_16_Pro.jpg  \n",
            "  inflating: Train/SHAGUN/WIN_20240524_15_27_18_Pro.jpg  \n",
            "  inflating: Train/SHAGUN/WIN_20240524_15_27_20_Pro.jpg  \n",
            "  inflating: Train/SHAGUN/WIN_20240524_15_27_23_Pro.jpg  \n",
            "  inflating: Train/SHAGUN/WIN_20240524_15_27_25_Pro.jpg  \n",
            "  inflating: Train/SHAGUN/WIN_20240524_15_27_30_Pro.jpg  \n",
            "  inflating: Train/SHAGUN/WIN_20240524_15_27_34_Pro.jpg  \n",
            "  inflating: Train/SHAGUN/WIN_20240524_15_27_39_Pro.jpg  \n",
            "  inflating: Train/SHAGUN/WIN_20240524_15_27_42_Pro.jpg  \n",
            "  inflating: Train/SHAGUN/WIN_20240524_15_27_44_Pro.jpg  \n",
            "  inflating: Train/SHAGUN/WIN_20240524_15_27_49_Pro.jpg  \n",
            "  inflating: Train/SHAGUN/WIN_20240524_15_27_56_Pro.jpg  \n",
            "   creating: Train/TARUN/\n",
            "  inflating: Train/TARUN/WIN_20240524_14_53_45_Pro.jpg  \n",
            "  inflating: Train/TARUN/WIN_20240524_14_54_47_Pro.jpg  \n",
            "  inflating: Train/TARUN/WIN_20240524_14_54_51_Pro.jpg  \n",
            "  inflating: Train/TARUN/WIN_20240524_14_54_53_Pro.jpg  \n",
            "  inflating: Train/TARUN/WIN_20240524_14_54_54_Pro.jpg  \n",
            "  inflating: Train/TARUN/WIN_20240524_14_54_55_Pro.jpg  \n",
            "   creating: Train/Ujval/\n",
            "  inflating: Train/Ujval/WIN_20240524_14_42_24_Pro.jpg  \n",
            "  inflating: Train/Ujval/WIN_20240524_14_42_30_Pro.jpg  \n",
            "  inflating: Train/Ujval/WIN_20240524_14_42_34_Pro.jpg  \n",
            "  inflating: Train/Ujval/WIN_20240524_14_42_35_Pro.jpg  \n",
            "  inflating: Train/Ujval/WIN_20240524_14_42_37_Pro.jpg  \n",
            "  inflating: Train/Ujval/WIN_20240524_14_42_38_Pro.jpg  \n",
            "  inflating: Train/Ujval/WIN_20240524_14_42_39_Pro.jpg  \n",
            "  inflating: Train/Ujval/WIN_20240524_14_42_47_Pro.jpg  \n",
            "  inflating: Train/Ujval/WIN_20240524_14_42_56_Pro.jpg  \n",
            "  inflating: Train/Ujval/WIN_20240524_14_42_57_Pro.jpg  \n",
            "  inflating: Train/Ujval/WIN_20240524_14_43_01_Pro.jpg  \n",
            "  inflating: Train/Ujval/WIN_20240524_14_43_03_Pro.jpg  \n",
            "  inflating: Train/Ujval/WIN_20240524_14_43_04_Pro.jpg  \n",
            "  inflating: Train/Ujval/WIN_20240524_14_43_06_Pro.jpg  \n",
            "  inflating: Train/Ujval/WIN_20240524_14_43_16_Pro.jpg  \n",
            "  inflating: Train/Ujval/WIN_20240524_14_43_23_Pro.jpg  \n"
          ]
        }
      ]
    },
    {
      "cell_type": "code",
      "source": [],
      "metadata": {
        "id": "gjC2ld0yGUs9"
      },
      "execution_count": null,
      "outputs": []
    },
    {
      "cell_type": "markdown",
      "source": [
        "Images Ko Train Kia he Yaha Se"
      ],
      "metadata": {
        "id": "vJnRGezWGVEy"
      }
    },
    {
      "cell_type": "code",
      "source": [
        "import cv2\n",
        "import os\n",
        "import numpy as np\n",
        "\n",
        "# Function to load images and labels from a dataset directory\n",
        "def load_images(dataset_path):\n",
        "    images = []\n",
        "    labels = []\n",
        "    label_id = 0\n",
        "    label_dict = {}\n",
        "\n",
        "    for root, dirs, files in os.walk(dataset_path):\n",
        "        for file in files:\n",
        "            if file.endswith(\"jpg\") or file.endswith(\"png\"):\n",
        "                img_path = os.path.join(root, file)\n",
        "                label = os.path.basename(root).replace(\" \", \"-\").lower()  # Extract label from directory name\n",
        "\n",
        "                # Assign a unique ID to each label\n",
        "                if label not in label_dict:\n",
        "                    label_dict[label] = label_id\n",
        "                    label_id += 1\n",
        "\n",
        "                # Load image and convert to grayscale\n",
        "\n",
        "                img = cv2.imread(img_path, cv2.IMREAD_GRAYSCALE)\n",
        "                #cv_imshow(img)\n",
        "                if img is not None:\n",
        "                    images.append(img)\n",
        "                    labels.append(label_dict[label])\n",
        "\n",
        "    return images, np.array(labels), label_dict\n",
        "\n",
        "# Function to train a face recognition model\n",
        "def train_recognizer(images, labels):\n",
        "    recognizer = cv2.face.LBPHFaceRecognizer_create()\n",
        "    recognizer.train(images, labels)\n",
        "    return recognizer\n",
        "\n",
        "# Load images and labels from the dataset folder\n",
        "dataset_path = \"Train\"\n",
        "images, labels, label_dict = load_images(dataset_path)\n",
        "\n",
        "# Train the recognizer\n",
        "recognizer = train_recognizer(images, labels)\n",
        "\n",
        "# Save the trained model to a file\n",
        "model_filename = 'trained_model.yml'\n",
        "recognizer.save(model_filename)\n",
        "print(f\"Model saved to {model_filename}\")\n",
        "\n",
        "# Save the label dictionary\n",
        "label_dict_filename = 'label_dict.npy'\n",
        "np.save(label_dict_filename, label_dict)\n",
        "print(f\"Label dictionary saved to {label_dict_filename}\")"
      ],
      "metadata": {
        "colab": {
          "base_uri": "https://localhost:8080/"
        },
        "id": "27JvgAlx0tMh",
        "outputId": "e1683f37-eaab-4fd9-a6cf-206d5f2faa71"
      },
      "execution_count": 25,
      "outputs": [
        {
          "output_type": "stream",
          "name": "stdout",
          "text": [
            "Model saved to trained_model.yml\n",
            "Label dictionary saved to label_dict.npy\n"
          ]
        }
      ]
    },
    {
      "cell_type": "markdown",
      "source": [
        "\n",
        "**MOdel Building With Some Optimization** *italicized text*"
      ],
      "metadata": {
        "id": "ugB7rVkVGbnO"
      }
    },
    {
      "cell_type": "code",
      "source": [
        "import cv2\n",
        "import os\n",
        "import numpy as np\n",
        "\n",
        "\n",
        "recognizer = cv2.face.LBPHFaceRecognizer_create()\n",
        "\n",
        "# Function to detect and extract faces from an image\n",
        "def detect_and_extract_faces(image, face_cascade):\n",
        "    faces = face_cascade.detectMultiScale(image, scaleFactor=1.1, minNeighbors=5, minSize=(30, 30))\n",
        "    face_images = []\n",
        "    for (x, y, w, h) in faces:\n",
        "        face_img = image[y:y+h, x:x+w]\n",
        "        face_images.append(face_img)\n",
        "    return face_images\n",
        "\n",
        "# Function to load images and labels from a dataset directory\n",
        "def load_images(dataset_path, face_cascade_path):\n",
        "    face_cascade = cv2.CascadeClassifier(face_cascade_path)\n",
        "    images = []\n",
        "    labels = []\n",
        "    label_id = 0\n",
        "    label_dict = {}\n",
        "\n",
        "    for root, dirs, files in os.walk(dataset_path):\n",
        "        for file in files:\n",
        "            if file.endswith(\"jpg\") or file.endswith(\"png\"):\n",
        "                img_path = os.path.join(root, file)\n",
        "                label = os.path.basename(root).replace(\" \", \"-\").lower()  # Extract label from directory name\n",
        "\n",
        "                # Assign a unique ID to each label\n",
        "                if label not in label_dict:\n",
        "                    label_dict[label] = label_id\n",
        "                    label_id += 1\n",
        "\n",
        "                # Load image and convert to grayscale\n",
        "                img = cv2.imread(img_path, cv2.IMREAD_GRAYSCALE)\n",
        "                if img is not None:\n",
        "                    # Detect and extract faces from the image\n",
        "                    face_images = detect_and_extract_faces(img, face_cascade)\n",
        "                    cv2_imshow(face_images)\n",
        "                    for face_img in face_images:\n",
        "                        images.append(face_img)\n",
        "                        labels.append(label_dict[label])\n",
        "\n",
        "    return images, np.array(labels), label_dict\n",
        "\n",
        "# Function to train a face recognition model\n",
        "def train_recognizer(images, labels):\n",
        "    recognizer.train(images, labels)\n",
        "    return recognizer\n",
        "\n",
        "# Path to the Haar Cascade for face detection\n",
        "face_cascade_path = '/content/haarcascade_frontalface_default.xml'\n",
        "\n",
        "# Load images and labels from the dataset folder\n",
        "dataset_path = \"Train\"\n",
        "images, labels, label_dict = load_images(dataset_path, face_cascade_path)\n",
        "\n",
        "# Train the recognizer\n",
        "recognizer = train_recognizer(images, labels)\n",
        "\n",
        "# Save the trained model to a file\n",
        "model_filename = 'trained_model.yml'\n",
        "recognizer.save(model_filename)\n",
        "print(f\"Model saved to {model_filename}\")\n",
        "\n",
        "# Save the label dictionary\n",
        "label_dict_filename = 'label_dict.npy'\n",
        "np.save(label_dict_filename, label_dict)\n",
        "print(f\"Label dictionary saved to {label_dict_filename}\")\n"
      ],
      "metadata": {
        "colab": {
          "base_uri": "https://localhost:8080/"
        },
        "id": "31r2VpX66q1U",
        "outputId": "d1f7451a-f9db-4b6d-e6b8-452e6d9824bf"
      },
      "execution_count": 31,
      "outputs": [
        {
          "output_type": "stream",
          "name": "stdout",
          "text": [
            "Model saved to trained_model.yml\n",
            "Label dictionary saved to label_dict.npy\n"
          ]
        }
      ]
    },
    {
      "cell_type": "markdown",
      "source": [
        "Prediction *Wala*"
      ],
      "metadata": {
        "id": "ijGxzZmXGjVs"
      }
    },
    {
      "cell_type": "code",
      "source": [
        "from google.colab.patches import cv2_imshow\n",
        "\n",
        "face_cascade_path = '/content/haarcascade_frontalface_default.xml'\n",
        "face_cascade = cv2.CascadeClassifier(face_cascade_path)\n",
        "\n",
        "#image me se Face Nikal Lena\n",
        "def detect_and_extract_faces(image, face_cascade):\n",
        "    faces = face_cascade.detectMultiScale(image, scaleFactor=1.1, minNeighbors=5, minSize=(30, 30))\n",
        "    face_images = []\n",
        "    for (x, y, w, h) in faces:\n",
        "        face_img = image[y:y+h, x:x+w]\n",
        "        face_images.append((face_img, (x, y, w, h)))\n",
        "    return face_images\n",
        "\n",
        "# Function to predict the identity of a new image\n",
        "def predict_image(img_path):\n",
        "    # Load the image and convert to grayscale\n",
        "    img = cv2.imread(img_path, cv2.IMREAD_GRAYSCALE)\n",
        "    cv2_imshow(img)\n",
        "\n",
        "    # Detect and extract faces from the image\n",
        "    face_images = detect_and_extract_faces(img, face_cascade)\n",
        "\n",
        "    if not face_images:\n",
        "        print(\"No face detected in the image.\")\n",
        "        return\n",
        "\n",
        "    for face_img, (x, y, w, h) in face_images:\n",
        "        # Normlization and Resiszing Techniques\n",
        "        face_img = cv2.resize(face_img, (128, 128))\n",
        "\n",
        "\n",
        "        face_img = face_img / 255.0\n",
        "\n",
        "\n",
        "        face_img = np.expand_dims(face_img, axis=-1)\n",
        "        #model Ko Processs Image Send Kia he\n",
        "        prediction, confidence = recognizer.predict(face_img)\n",
        "\n",
        "        if confidence > 60:\n",
        "            predicted_label = 'Unknown'\n",
        "        else:\n",
        "            predicted_label = next((label for label, idx in label_dict.items() if idx == prediction), 'Unknown')\n",
        "        print(f\"Predicted label: {predicted_label}, Confidence: {confidence}\")\n",
        "\n",
        "        # yahape Hamne Image pe Upar ek Text Add Kia He\n",
        "        cv2.putText(img, f\"{predicted_label} ({confidence:.2f})\", (x, y-10), cv2.FONT_HERSHEY_SIMPLEX, 0.9, (255, 255, 255), 2)\n",
        "        cv2.rectangle(img, (x, y), (x+w, y+h), (255, 255, 255), 2)\n",
        "\n",
        "    cv2_imshow(img)\n",
        "    cv2.waitKey(0)\n",
        "    cv2.destroyAllWindows()\n",
        "\n",
        "\n",
        "new_img_path = '/content/salman.jfif'\n",
        "predict_image(new_img_path)"
      ],
      "metadata": {
        "colab": {
          "base_uri": "https://localhost:8080/",
          "height": 302
        },
        "id": "M4dysaXw3acQ",
        "outputId": "ce89bfd5-d7cc-405b-829c-8d5339c326b7"
      },
      "execution_count": 54,
      "outputs": [
        {
          "output_type": "display_data",
          "data": {
            "text/plain": [
              "<PIL.Image.Image image mode=L size=193x134>"
            ],
            "image/png": "[encoded data removed]"
          },
          "metadata": {}
        },
        {
          "output_type": "stream",
          "name": "stdout",
          "text": [
            "Predicted label: Unknown, Confidence: 88.8216419855774\n"
          ]
        },
        {
          "output_type": "display_data",
          "data": {
            "text/plain": [
              "<PIL.Image.Image image mode=L size=193x134>"
            ],
            "image/png": "[encoded data removed]"
          },
          "metadata": {}
        }
      ]
    },
    {
      "cell_type": "code",
      "source": [],
      "metadata": {
        "id": "fZPaS90U5JxD"
      },
      "execution_count": 32,
      "outputs": []
    }
  ]
}